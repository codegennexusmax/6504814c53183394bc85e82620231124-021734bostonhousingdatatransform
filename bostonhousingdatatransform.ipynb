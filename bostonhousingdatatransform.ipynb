{
 "cells": [
  {
   "cell_type": "markdown",
   "id": "cf07625f",
   "metadata": {},
   "source": [
    "***GENERATED CODE FOR bostonhousingdatatransform PIPELINE.***"
   ]
  },
  {
   "cell_type": "markdown",
   "id": "606eba78",
   "metadata": {},
   "source": [
    "***DON'T EDIT THIS CODE.***"
   ]
  },
  {
   "cell_type": "markdown",
   "id": "84f0947f",
   "metadata": {},
   "source": [
    "***CONNECTOR FUNCTIONS TO READ DATA.***"
   ]
  },
  {
   "cell_type": "code",
   "execution_count": null,
   "id": "fa216a0c",
   "metadata": {},
   "outputs": [],
   "source": [
    "from hdfs3 import HDFileSystem\n",
    "import datetime\n",
    "import logging\n",
    "import warnings\n",
    "warnings.filterwarnings('ignore')\n",
    "logging.basicConfig(format='%(levelname)s:%(message)s', level=logging.INFO)\n",
    "\n",
    "\n",
    "class HDFSConnector:\n",
    "\n",
    "    def fetch(spark, config):\n",
    "        ################### INPUT HADOOP HOST PORT TO CONNECT WITH ###############################\n",
    "        hdfs = HDFileSystem(\n",
    "            host=eval(config)['host'], port=eval(config)['port'])\n",
    "        with hdfs.open(eval(config)['url']) as f:\n",
    "            df = pd.read_csv(f, error_bad_lines=False)\n",
    "        df = spark.createDataFrame(dfPd)\n",
    "        display(df.limit(2).toPandas())\n",
    "        return df\n",
    "\n",
    "    def put(df, spark, config):\n",
    "        return df.write.format('csv').options(header='true' if eval(config)[\"is_header\"] == \"Use Header Line\" else 'false',\n",
    "                                              delimiter=eval(config)[\"delimiter\"]).save((\"%s %s\") % (datetime.datetime.now().strftime(\"%Y-%m-%d %H.%M.%S\")+\"_\", eval(config)['url']))\n"
   ]
  },
  {
   "cell_type": "markdown",
   "id": "8adede31",
   "metadata": {},
   "source": [
    "***OPERATION FUNCTIONS***"
   ]
  },
  {
   "cell_type": "code",
   "execution_count": null,
   "id": "f373f6fb",
   "metadata": {},
   "outputs": [],
   "source": [
    "import pyspark\n",
    "from dask.dataframe import from_pandas\n",
    "import json\n",
    "\n",
    "\n",
    "def calculateFormula(df, functionsData, applyOn):\n",
    "    dfcp = df\n",
    "    for functionData in functionsData:\n",
    "        if functionData['useNext']:\n",
    "            if 'dataPrepColumn_Inprocess' in list(dfcp.columns):\n",
    "                dfcp['dataPrepColumn_Inprocess'] = calculateEquation(\n",
    "                    dfcp, functionData['operator'], functionData['dataPrepColumn_Inprocess'], functionData['operand2'])\n",
    "            else:\n",
    "                dfcp['dataPrepColumn_Inprocess'] = calculateEquation(\n",
    "                    dfcp, functionData['operator'], functionData['operand1'], functionData['operand2'])\n",
    "        else:\n",
    "            if 'dataPrepColumn_Inprocess' in list(dfcp.columns):\n",
    "                if functionData['outputColumn'] == \"newColumn\":\n",
    "                    newColumnName = \"New_\" + \\\n",
    "                        functionData['operand1']+\"_\" + \\\n",
    "                        functionData['operator']+\"_\"+functionData['operand2']\n",
    "                    dfcp[newColumnName] = calculateEquation(dfcp, functionData['operator'],\n",
    "                                                            functionData['dataPrepColumn_Inprocess'], functionData['operand2'])\n",
    "                else:\n",
    "                    dfcp[functionData['outputColumn']] = calculateEquation(dfcp, functionData[\n",
    "                        'operator'], functionData['dataPrepColumn_Inprocess'], functionData['operand2'])\n",
    "                dfcp.drop('dataPrepColumn_Inprocess', axis=1)\n",
    "            else:\n",
    "                if functionData['outputColumn'] == \"newColumn\":\n",
    "                    newColumnName = \"New_\" + \\\n",
    "                        functionData['operand1']+\"_\" + \\\n",
    "                        functionData['operator']+\"_\"+functionData['operand2']\n",
    "                    dfcp[newColumnName] = calculateEquation(dfcp, functionData[\n",
    "                        'operator'], functionData['operand1'], functionData['operand2'])\n",
    "                else:\n",
    "                    dfcp[functionData['outputColumn']] = calculateEquation(dfcp, functionData[\n",
    "                        'operator'], functionData['operand1'], functionData['operand2'])\n",
    "    return dfcp\n",
    "\n",
    "\n",
    "def calculateEquation(df, operator, columnA, columnB):\n",
    "    if (operator == \"add\"):\n",
    "        return df[columnA].add(df[columnB])\n",
    "    elif (operator == \"sub\"):\n",
    "        return df[columnA].sub(df[columnB])\n",
    "    elif (operator == \"mul\"):\n",
    "        return df[columnA].mul(df[columnB])\n",
    "    elif (operator == \"div\"):\n",
    "        return df[columnA].div(df[columnB])\n",
    "    elif (operator == \"mod\"):\n",
    "        return df[columnA].mod(df[columnB])\n",
    "\n",
    "\n",
    "def runDataCleansing(sparkDf, spark, config):\n",
    "    configObj = json.loads(config)\n",
    "    sparkDf.persist(pyspark.StorageLevel.MEMORY_AND_DISK)\n",
    "    df = from_pandas((sparkDf.toPandas()), npartitions=5)\n",
    "    functionList = configObj['functionsApplied']\n",
    "    Data_Cleansing_Methods = {\"replaceBy\": replaceValues,\n",
    "                              \"formula\": calculateFormula,\n",
    "                              \"aggregate\": aggregation,\n",
    "                              \"converttostringtype\": changeToString,\n",
    "                              \"editname\": renameColumns}\n",
    "    for function in functionList:\n",
    "        function['functionName']\n",
    "        df = Data_Cleansing_Methods[function['functionName']](df, function['functionsData'],\n",
    "                                                              function['applyOn'])\n",
    "    sparkDf = spark.createDataFrame(df.compute())\n",
    "\n",
    "    display(sparkDf.limit(2).toPandas())\n",
    "    return sparkDf\n"
   ]
  },
  {
   "cell_type": "markdown",
   "id": "ea03ad03",
   "metadata": {},
   "source": [
    "***CONNECTOR FUNCTIONS TO WRITE DATA.***"
   ]
  },
  {
   "cell_type": "code",
   "execution_count": null,
   "id": "b99c1da1",
   "metadata": {},
   "outputs": [],
   "source": [
    "import datetime\n",
    "import requests\n",
    "import datetime\n",
    "import logging\n",
    "import warnings\n",
    "warnings.filterwarnings('ignore')\n",
    "logging.basicConfig(format='%(levelname)s:%(message)s', level=logging.INFO)\n",
    "\n",
    "\n",
    "class NumtraConnector:\n",
    "\n",
    "    def put(inStages, inStagesData, stageId, spark, config):\n",
    "        path = eval(config)['server_url']\n",
    "        baseType = eval(config)['baseType']\n",
    "        results_url = eval(config)['results_url']\n",
    "        server = eval(config)['server']\n",
    "        originalfile = eval(config)['orignalKey']\n",
    "        eval(config)['pathOnly']\n",
    "        filename = eval(config)['filename']\n",
    "        eval(config)['ser']\n",
    "        eval(config)['user']\n",
    "        eval(config)['password']\n",
    "        eval(config)['authSource']\n",
    "        eval(config)['user_id']\n",
    "        eval(config)['parent_id']\n",
    "        eval(config)['project_id']\n",
    "        time = str(int(datetime.datetime.now().timestamp()))\n",
    "\n",
    "        inStagesData[inStages[0]]\n",
    "\n",
    "        print(path)\n",
    "        print(baseType)\n",
    "        print(results_url)\n",
    "        print(server)\n",
    "        print(originalfile)\n",
    "        print(filename)\n",
    "\n",
    "        args = {\n",
    "            'url': path,\n",
    "            'baseType': baseType,\n",
    "            'originalfile': originalfile,\n",
    "            'filename': time + filename\n",
    "        }\n",
    "\n",
    "        response = requests.post(results_url, args)\n",
    "        return response\n"
   ]
  },
  {
   "cell_type": "markdown",
   "id": "e9c8270c",
   "metadata": {},
   "source": [
    "***READING DATAFRAME***"
   ]
  },
  {
   "cell_type": "code",
   "execution_count": null,
   "id": "0359b153",
   "metadata": {},
   "outputs": [],
   "source": [
    "############## CREATE SPARK SESSION ############################ ENTER YOUR SPARK MASTER IP AND PORT TO CONNECT TO SERVER ################\n",
    "from pyspark.sql import SparkSession\n",
    "spark = SparkSession.builder.master('spark://backendmaster:7077').getOrCreate()\n",
    "#%run bostonhousingdatatransformHooks.ipynb\n",
    "try:\n",
    "\t#sourcePreExecutionHook()\n",
    "\n",
    "\tbotonhouingtrain = HDFSConnector.fetch(spark, \"{'url': '/FileStore/platform/testdata/1692180187748_Boston_Housing_Train.csv', 'filename': 'Boston_Housing_Train.csv', 'delimiter': ',', 'file_type': 'Delimeted', 'dbfs_token': '', 'dbfs_domain': '', 'FilePath': '/Real Estate/Boston Housing/Boston_Housing_Train.csv', 'viewFileName': 'Boston_Housing_Train.csv', 'is_header': 'Use Header Line', 'baseType': 'hdfs', 'server_url': '/numtraPlatform/NumtraPlatformV3/uploads/platform/', 'results_url': 'http://colaberry.numtra.com:44040/api/read/hdfs'}\")\n",
    "\n",
    "except Exception as ex: \n",
    "\tlogging.error(ex)\n",
    "spark.stop()\n"
   ]
  },
  {
   "cell_type": "markdown",
   "id": "bdad62cf",
   "metadata": {},
   "source": [
    "***PERFORMING OPERATIONS***"
   ]
  },
  {
   "cell_type": "code",
   "execution_count": null,
   "id": "d023d14b",
   "metadata": {},
   "outputs": [],
   "source": [
    "#%run bostonhousingdatatransformHooks.ipynb\n",
    "try:\n",
    "\t#operationPreExecutionHook()\n",
    "\n",
    "datapreparation = runDataCleansing(botonhouingtrain,spark,json.dumps( {\"url\": \"/FileStore/platform/testdata/1692180187748_Boston_Housing_Train.csv\", \"DataPrepFile\": \"/FileStore/platform/testdata/1692180187748_Boston_Housing_Train.csv\", \"data_source\": \"platfiles\", \"startListenerOnly\": 1, \"dateColumnNames\": [], \"FilePath\": \"/FileStore/platform/extra/6504814c53183394bc85e82b1692711505/0part.csv\", \"requestRatio\": 1, \"totalRows\": 506, \"BasicStats\": {\"missingValues\": 0, \"numberOfColumns\": 15, \"numberOfRows\": 506, \"duplicateRowCount\": 0, \"stats\": [{\"column\": \"CRIM\", \"alias\": \"CRIM\", \"generated\": 0, \"type\": \"real\", \"max\": 88.9762, \"min\": 0.00632, \"mean\": 3.613523557312254, \"missing\": 0, \"stddev\": 8.6, \"outliers\": [8.98296, 13.5222, 9.2323, 8.26725, 11.1081, 18.4982, 19.6091, 15.288, 9.82349, 23.6482, 17.8667, 88.9762, 15.8744, 9.18702, 20.0849, 16.8118, 24.3938, 22.5971, 14.3337, 11.5779, 8.64476, 13.3598, 8.71675, 38.3518, 9.91655, 25.0461, 14.2362, 9.59571, 24.8017, 41.5292, 67.9208, 20.7162, 11.9511, 14.4383, 51.1358, 14.0507, 18.811, 28.6558, 45.7461, 18.0846, 10.8342, 25.9406, 73.5341, 11.8123, 11.0874, 12.0482, 8.79212, 15.8603, 12.2472, 37.6619, 9.33889, 8.49213, 10.0623, 13.9134, 11.1604, 14.4208, 15.1772, 13.6781, 9.39063, 22.0511, 9.72418, 9.96654, 12.8023, 10.6718, 9.92485, 9.32909, 8.24809, 9.51363, 8.20058, 15.5757, 13.0751, 15.0234, 10.233, 14.3337], \"validation\": []}, {\"column\": \"ZN\", \"alias\": \"ZN\", \"generated\": 0, \"type\": \"real\", \"max\": 100, \"min\": 0, \"mean\": 11.363636363636363, \"missing\": 0, \"stddev\": 23.32, \"outliers\": [75, 75, 75, 90, 85, 100, 80, 80, 45, 45, 45, 45, 45, 45, 60, 60, 80, 80, 80, 80, 95, 95, 82.5, 82.5, 95, 95, 30, 30, 30, 30, 30, 30, 80, 80, 90, 40, 40, 40, 40, 40, 90, 90, 55, 80, 52.5, 52.5, 52.5, 80, 80, 80, 70, 70, 70, 34, 34, 34, 33, 33, 33, 33, 35, 35, 35, 55, 55, 85, 80, 40, 40, 60, 60, 90, 80, 80], \"validation\": []}, {\"column\": \"INDUS\", \"alias\": \"INDUS\", \"generated\": 0, \"type\": \"real\", \"max\": 27.74, \"min\": 0.46, \"mean\": 11.13677865612648, \"missing\": 0, \"stddev\": 6.86, \"outliers\": [], \"validation\": []}, {\"column\": \"CHAS\", \"alias\": \"CHAS\", \"generated\": 0, \"type\": \"real\", \"max\": 1, \"min\": 0, \"mean\": 0.0691699604743083, \"missing\": 0, \"stddev\": 0.25, \"outliers\": [1, 1, 1, 1, 1, 1, 1, 1, 1, 1, 1, 1, 1, 1, 1, 1, 1, 1, 1, 1, 1, 1, 1, 1, 1, 1, 1, 1, 1, 1, 1, 1, 1, 1, 1], \"validation\": []}, {\"column\": \"NOX\", \"alias\": \"NOX\", \"generated\": 0, \"type\": \"real\", \"max\": 0.871, \"min\": 0.385, \"mean\": 0.5546950592885376, \"missing\": 0, \"stddev\": 0.12, \"outliers\": [0.871, 0.871, 0.871, 0.871, 0.871, 0.871, 0.871, 0.871, 0.871, 0.871, 0.871, 0.871, 0.871, 0.871, 0.871, 0.871], \"validation\": []}, {\"column\": \"RM\", \"alias\": \"RM\", \"generated\": 0, \"type\": \"real\", \"max\": 8.78, \"min\": 3.561, \"mean\": 6.284634387351779, \"missing\": 0, \"stddev\": 0.7, \"outliers\": [8.069, 7.82, 4.903, 4.926, 7.802, 8.375, 7.929, 7.765, 7.831, 7.875, 7.61, 7.853, 8.034, 8.266, 8.725, 8.04, 7.686, 8.337, 8.247, 8.259, 8.704, 8.398, 8.297, 7.691, 7.82, 7.645, 7.923, 8.78, 3.561, 3.863, 4.906, 4.138, 4.368, 4.652, 4.88, 4.138, 4.628, 4.519], \"validation\": []}, {\"column\": \"AGE\", \"alias\": \"AGE\", \"generated\": 0, \"type\": \"real\", \"max\": 100, \"min\": 2.9, \"mean\": 68.57490118577076, \"missing\": 0, \"stddev\": 28.15, \"outliers\": [], \"validation\": []}, {\"column\": \"DIS\", \"alias\": \"DIS\", \"generated\": 0, \"type\": \"real\", \"max\": 12.1265, \"min\": 1.1296, \"mean\": 3.795042687747036, \"missing\": 0, \"stddev\": 2.11, \"outliers\": [9.1876, 9.2229, 9.2203, 9.2203, 9.0892, 10.7103, 10.7103, 12.1265, 10.5857, 10.5857], \"validation\": []}, {\"column\": \"RAD\", \"alias\": \"RAD\", \"generated\": 0, \"type\": \"real\", \"max\": 24, \"min\": 1, \"mean\": 9.549407114624506, \"missing\": 0, \"stddev\": 8.71, \"outliers\": [], \"validation\": []}, {\"column\": \"TAX\", \"alias\": \"TAX\", \"generated\": 0, \"type\": \"real\", \"max\": 711, \"min\": 187, \"mean\": 408.2371541501976, \"missing\": 0, \"stddev\": 168.54, \"outliers\": [], \"validation\": []}, {\"column\": \"PTRATIO\", \"alias\": \"PTRATIO\", \"generated\": 0, \"type\": \"real\", \"max\": 22, \"min\": 12.6, \"mean\": 18.455533596837945, \"missing\": 0, \"stddev\": 2.16, \"outliers\": [12.6, 12.6, 12.6, 13, 13, 13, 13, 13, 13, 13, 13, 13, 13, 13, 13, 13.6], \"validation\": []}, {\"column\": \"B\", \"alias\": \"B\", \"generated\": 0, \"type\": \"real\", \"max\": 396.9, \"min\": 0.32, \"mean\": 356.6740316205534, \"missing\": 0, \"stddev\": 91.29, \"outliers\": [288.99, 303.42, 306.38, 232.6, 248.31, 70.8, 344.91, 338.63, 262.76, 172.91, 169.27, 341.6, 343.28, 261.95, 321.02, 88.01, 88.63, 338.92, 240.16, 227.61, 297.09, 330.04, 292.29, 348.13, 348.93, 341.6, 316.03, 131.42, 347.88, 285.83, 338.16, 329.46, 332.09, 314.64, 179.36, 2.6, 35.05, 28.79, 210.97, 88.27, 27.25, 21.57, 127.36, 16.45, 48.45, 318.75, 319.98, 291.55, 2.52, 3.65, 7.68, 24.65, 18.82, 96.73, 60.72, 83.45, 81.33, 97.95, 100.19, 100.63, 109.85, 27.49, 9.32, 68.95, 240.52, 43.06, 318.01, 304.21, 0.32, 6.68, 50.92, 10.48, 3.5, 272.21, 255.23, 334.4, 22.01, 331.29, 302.76, 344.05, 318.43], \"validation\": []}, {\"column\": \"LSTAT\", \"alias\": \"LSTAT\", \"generated\": 0, \"type\": \"real\", \"max\": 37.97, \"min\": 1.73, \"mean\": 12.653063241106722, \"missing\": 0, \"stddev\": 7.14, \"outliers\": [29.93, 30.81, 34.41, 29.53, 29.55, 34.77, 37.97, 30.63, 30.81, 31.99, 30.62, 30.59, 29.97, 34.37, 36.98, 34.02, 29.68], \"validation\": []}, {\"column\": \"MEDV\", \"alias\": \"MEDV\", \"generated\": 0, \"type\": \"real\", \"max\": 50, \"min\": 5, \"mean\": 22.532806324110677, \"missing\": 0, \"stddev\": 9.2, \"outliers\": [36.2, 35.4, 38.7, 43.8, 41.3, 50, 50, 50, 50, 37.2, 39.8, 36.2, 37.9, 50, 37, 36.4, 50, 42.3, 48.5, 50, 44.8, 50, 37.6, 46.7, 41.7, 48.3, 42.8, 44, 50, 36, 43.1, 48.8, 36.5, 50, 43.5, 35.2, 35.1, 45.4, 35.4, 46, 50, 37.3, 36.1, 50, 50, 50, 50, 50, 5, 6.3, 5.6, 5, 7, 7], \"validation\": []}, {\"column\": \"MEDV_NOX\", \"alias\": \"MEDV_NOX\", \"generated\": 1, \"type\": \"real\", \"max\": 124.68827930174562, \"min\": 7.2150072150072155, \"mean\": 43.731233017235596, \"missing\": 0, \"stddev\": 21.82, \"outliers\": [98.42696629213482, 102.45901639344262, 118.48341232227489, 101.92771084337349, 116.55851958663781, 120.1634222542658, 99.2063492063492, 92.65873015873017, 95.26627218934911, 99.30394431554524, 111.67512690355329, 102.50620907654097, 103.86091668548205, 124.68827930174562, 90.75425790754258], \"validation\": []}]}, \"predictionPowerScore\": [{\"AGE\": 1, \"B\": 0, \"CHAS\": 0, \"CRIM\": 0.1819418929, \"DIS\": 0.3654966571, \"INDUS\": 0.4743910252, \"LSTAT\": 0.031921721, \"MEDV\": 0.12910914, \"MEDV_NOX\": 0.175771527, \"NOX\": 0.501954171, \"PTRATIO\": 0.3398705519, \"RAD\": 0.160634802, \"RM\": 0, \"TAX\": 0.4286750281, \"ZN\": 0.2250916338}, {\"AGE\": 0, \"B\": 1, \"CHAS\": 0, \"CRIM\": 0, \"DIS\": 0, \"INDUS\": 0, \"LSTAT\": 0, \"MEDV\": 0, \"MEDV_NOX\": 0, \"NOX\": 0.1311605518, \"PTRATIO\": 0, \"RAD\": 0, \"RM\": 0, \"TAX\": 0, \"ZN\": 0}, {\"AGE\": 0, \"B\": 0, \"CHAS\": 1, \"CRIM\": 0, \"DIS\": 0, \"INDUS\": 0, \"LSTAT\": 0, \"MEDV\": 0, \"MEDV_NOX\": 0, \"NOX\": 0, \"PTRATIO\": 0, \"RAD\": 0, \"RM\": 0, \"TAX\": 0, \"ZN\": 0}, {\"AGE\": 0, \"B\": 0, \"CHAS\": 0, \"CRIM\": 1, \"DIS\": 0, \"INDUS\": 0.3943513349, \"LSTAT\": 0, \"MEDV\": 0, \"MEDV_NOX\": 0.0045881183, \"NOX\": 0.4181366721, \"PTRATIO\": 0.3498679351, \"RAD\": 0.3439931322, \"RM\": 0, \"TAX\": 0.3892382262, \"ZN\": 0}, {\"AGE\": 0.2263840804, \"B\": 0, \"CHAS\": 0, \"CRIM\": 0.1098016755, \"DIS\": 1, \"INDUS\": 0.7192599348, \"LSTAT\": 0, \"MEDV\": 0, \"MEDV_NOX\": 0.0102431397, \"NOX\": 0.7685256976, \"PTRATIO\": 0.4735583747, \"RAD\": 0.2010614961, \"RM\": 0, \"TAX\": 0.6826358869, \"ZN\": 0.3440131232}, {\"AGE\": 0.2109846408, \"B\": 0.007361998, \"CHAS\": 0, \"CRIM\": 0.4290394368, \"DIS\": 0.4042352387, \"INDUS\": 1, \"LSTAT\": 0.0617684759, \"MEDV\": 0.2447842529, \"MEDV_NOX\": 0.3080987503, \"NOX\": 0.9094313843, \"PTRATIO\": 0.6640834779, \"RAD\": 0.4417218805, \"RM\": 0, \"TAX\": 0.8713858002, \"ZN\": 0.2662979852}, {\"AGE\": 0.062603761, \"B\": 0, \"CHAS\": 0, \"CRIM\": 0, \"DIS\": 0.0983268519, \"INDUS\": 0.3050010509, \"LSTAT\": 1, \"MEDV\": 0.336130308, \"MEDV_NOX\": 0.3392348286, \"NOX\": 0.3489632496, \"PTRATIO\": 0.1996542817, \"RAD\": 0.1740047184, \"RM\": 0.0872401293, \"TAX\": 0.2588577211, \"ZN\": 0.130676928}, {\"AGE\": 0, \"B\": 0, \"CHAS\": 0, \"CRIM\": 0, \"DIS\": 0, \"INDUS\": 0.2739922522, \"LSTAT\": 0.192382389, \"MEDV\": 1, \"MEDV_NOX\": 0.5618301818, \"NOX\": 0.3534215648, \"PTRATIO\": 0.1830365575, \"RAD\": 0.0822970281, \"RM\": 0.134605752, \"TAX\": 0.1831393252, \"ZN\": 0.0969028871}, {\"AGE\": 0, \"B\": 0, \"CHAS\": 0, \"CRIM\": 0.0764857145, \"DIS\": 0.0716265301, \"INDUS\": 0.4468651386, \"LSTAT\": 0.3045875348, \"MEDV\": 0.6317378191, \"MEDV_NOX\": 1, \"NOX\": 0.5231256307, \"PTRATIO\": 0.2959740988, \"RAD\": 0.1998740776, \"RM\": 0.1173610888, \"TAX\": 0.3443397939, \"ZN\": 0.1789829201}, {\"AGE\": 0.2214231031, \"B\": 0, \"CHAS\": 0, \"CRIM\": 0.3529646943, \"DIS\": 0.3969063132, \"INDUS\": 0.7475713158, \"LSTAT\": 0, \"MEDV\": 0.1373945132, \"MEDV_NOX\": 0.2585103849, \"NOX\": 1, \"PTRATIO\": 0.523485966, \"RAD\": 0.3203099503, \"RM\": 0, \"TAX\": 0.6772530451, \"ZN\": 0.2350807327}, {\"AGE\": 0, \"B\": 0, \"CHAS\": 0, \"CRIM\": 0.0673137855, \"DIS\": 0.0907940989, \"INDUS\": 0.9172705087, \"LSTAT\": 0, \"MEDV\": 0.0215388598, \"MEDV_NOX\": 0.0204320953, \"NOX\": 0.8518213838, \"PTRATIO\": 1, \"RAD\": 0.3315092837, \"RM\": 0, \"TAX\": 0.7655938121, \"ZN\": 0.1993584355}, {\"AGE\": 0, \"B\": 0, \"CHAS\": 0, \"CRIM\": 0.7525769844, \"DIS\": 0, \"INDUS\": 0.9783928152, \"LSTAT\": 0, \"MEDV\": 0.0667400174, \"MEDV_NOX\": 0.1300349597, \"NOX\": 0.9687788517, \"PTRATIO\": 0.8051119616, \"RAD\": 1, \"RM\": 0, \"TAX\": 0.9212987046, \"ZN\": 0}, {\"AGE\": 0, \"B\": 0, \"CHAS\": 0, \"CRIM\": 0, \"DIS\": 0, \"INDUS\": 0.1465495983, \"LSTAT\": 0, \"MEDV\": 0.1446528159, \"MEDV_NOX\": 0.0033788833, \"NOX\": 0.1310865934, \"PTRATIO\": 0.0976885308, \"RAD\": 0.005901464, \"RM\": 1, \"TAX\": 0.0524240323, \"ZN\": 0.0894627131}, {\"AGE\": 0, \"B\": 0, \"CHAS\": 0, \"CRIM\": 0.5597919875, \"DIS\": 0.1597987317, \"INDUS\": 0.96937539, \"LSTAT\": 0, \"MEDV\": 0.1921251742, \"MEDV_NOX\": 0.2573387534, \"NOX\": 0.9474391316, \"PTRATIO\": 0.7269644848, \"RAD\": 0.6943762355, \"RM\": 0, \"TAX\": 1, \"ZN\": 0.075200725}, {\"AGE\": 0, \"B\": 0, \"CHAS\": 0, \"CRIM\": 0, \"DIS\": 0.4205587427, \"INDUS\": 0.8555653668, \"LSTAT\": 0, \"MEDV\": 0, \"MEDV_NOX\": 0, \"NOX\": 0.7167584404, \"PTRATIO\": 0.3032268596, \"RAD\": 0, \"RM\": 0, \"TAX\": 0.5283745907, \"ZN\": 1}], \"HasBasicStats\": 1, \"functionsApplied\": [{\"functionName\": \"formula\", \"applyOn\": [{\"columnName\": \"MEDV\", \"type\": \"real\", \"min\": \"5.0\", \"max\": \"50.0\", \"mean\": \"22.5\"}, {\"columnName\": \"NOX\", \"type\": \"real\", \"min\": \"0.4\", \"max\": \"0.9\", \"mean\": \"0.6\"}], \"functionsData\": [{\"operand1\": \"MEDV\", \"operator\": \"div\", \"operand2\": \"NOX\", \"outputColumn\": \"newColumn\", \"useNext\": 0, \"column\": [{\"Columndata\": {\"columnName\": \"MEDV\", \"type\": \"real\", \"min\": \"5.0\", \"max\": \"50.0\", \"mean\": \"22.5\"}}, {\"Columndata\": {\"columnName\": \"NOX\", \"type\": \"real\", \"min\": \"0.4\", \"max\": \"0.9\", \"mean\": \"0.6\"}}, {\"Columndata\": \"\"}], \"newColumnName\": \"MEDV_NOX\"}]}], \"functionChanges\": [{\"columnName\": \"MEDV\", \"functionName\": \"Formula\", \"Type\": \"real\", \"Parameters\": [{\"operand1\": \"MEDV\", \"operator\": \"div\", \"operand2\": \"NOX\", \"outputColumn\": \"newColumn\", \"useNext\": 0, \"column\": [{\"Columndata\": {\"columnName\": \"MEDV\", \"type\": \"real\", \"min\": \"5.0\", \"max\": \"50.0\", \"mean\": \"22.5\"}}, {\"Columndata\": {\"columnName\": \"NOX\", \"type\": \"real\", \"min\": \"0.4\", \"max\": \"0.9\", \"mean\": \"0.6\"}}, {\"Columndata\": \"\"}], \"newColumnName\": \"MEDV_NOX\"}]}, {\"columnName\": \"NOX\", \"functionName\": \"Formula\", \"Type\": \"real\", \"Parameters\": [{\"operand1\": \"MEDV\", \"operator\": \"div\", \"operand2\": \"NOX\", \"outputColumn\": \"newColumn\", \"useNext\": 0, \"column\": [{\"Columndata\": {\"columnName\": \"MEDV\", \"type\": \"real\", \"min\": \"5.0\", \"max\": \"50.0\", \"mean\": \"22.5\"}}, {\"Columndata\": {\"columnName\": \"NOX\", \"type\": \"real\", \"min\": \"0.4\", \"max\": \"0.9\", \"mean\": \"0.6\"}}, {\"Columndata\": \"\"}], \"newColumnName\": \"MEDV_NOX\"}]}], \"fileheader\": [{\"field\": \"CRIM\", \"alias\": \"CRIM\", \"generated\": 0, \"position\": 1, \"type\": \"real\"}, {\"field\": \"ZN\", \"alias\": \"ZN\", \"generated\": 0, \"position\": 2, \"type\": \"real\"}, {\"field\": \"INDUS\", \"alias\": \"INDUS\", \"generated\": 0, \"position\": 3, \"type\": \"real\"}, {\"field\": \"CHAS\", \"alias\": \"CHAS\", \"generated\": 0, \"position\": 4, \"type\": \"real\"}, {\"field\": \"NOX\", \"alias\": \"NOX\", \"generated\": 0, \"position\": 5, \"type\": \"real\"}, {\"field\": \"RM\", \"alias\": \"RM\", \"generated\": 0, \"position\": 6, \"type\": \"real\"}, {\"field\": \"AGE\", \"alias\": \"AGE\", \"generated\": 0, \"position\": 7, \"type\": \"real\"}, {\"field\": \"DIS\", \"alias\": \"DIS\", \"generated\": 0, \"position\": 8, \"type\": \"real\"}, {\"field\": \"RAD\", \"alias\": \"RAD\", \"generated\": 0, \"position\": 9, \"type\": \"real\"}, {\"field\": \"TAX\", \"alias\": \"TAX\", \"generated\": 0, \"position\": 10, \"type\": \"real\"}, {\"field\": \"PTRATIO\", \"alias\": \"PTRATIO\", \"generated\": 0, \"position\": 11, \"type\": \"real\"}, {\"field\": \"B\", \"alias\": \"B\", \"generated\": 0, \"position\": 12, \"type\": \"real\"}, {\"field\": \"LSTAT\", \"alias\": \"LSTAT\", \"generated\": 0, \"position\": 13, \"type\": \"real\"}, {\"field\": \"MEDV\", \"alias\": \"MEDV\", \"generated\": 0, \"position\": 14, \"type\": \"real\"}, {\"field\": \"MEDV_NOX\", \"alias\": \"MEDV_NOX\", \"generated\": 1, \"position\": 15, \"type\": \"real\"}]}))\n",
    "\t#operationPostExecutionHook(datapreparation)\n",
    "\n",
    "except Exception as ex: \n",
    "\tlogging.error(ex)\n"
   ]
  },
  {
   "cell_type": "markdown",
   "id": "635e7ffa",
   "metadata": {},
   "source": [
    "***WRITING DATAFRAME***"
   ]
  },
  {
   "cell_type": "code",
   "execution_count": null,
   "id": "38a27dc6",
   "metadata": {},
   "outputs": [],
   "source": [
    "#%run bostonhousingdatatransformHooks.ipynb\n",
    "try:\n",
    "\t#sinkPreExecutionHook()\n",
    "\n",
    "\tbostonhousing = NumtraConnector.fetch(spark, \"{'samplefile': '/FileStore/platform/sampleData/6504814c53183394bc85e82c/part-00000-cc00c9dc-bd26-403e-a40b-4c6a226a3baa-c000.csv', 'samplecount': 506, 'originalcount': 506, 'orignalKey': '/FileStore/platform/testdata/1692180187748_Boston_Housing_Train.csv', 'pathOnly': '/Real Estate/Boston Housing', 'project_id': '64dc79b2892b8d030d748634', 'parent_id': '64dc79b2892b8d030d748634', 'original_schema': [{'checked': True, 'inherited': True, 'is_categorical': False, 'bad_values': '', 'nullable': 'true', 'field': 'CRIM', 'alias': 'CRIM', 'type': 'real', 'position': '0'}, {'checked': True, 'inherited': True, 'is_categorical': False, 'bad_values': '', 'nullable': 'true', 'field': 'ZN', 'alias': 'ZN', 'type': 'real', 'position': '1'}, {'checked': True, 'inherited': True, 'is_categorical': False, 'bad_values': '', 'nullable': 'true', 'field': 'INDUS', 'alias': 'INDUS', 'type': 'real', 'position': '2'}, {'checked': True, 'inherited': True, 'is_categorical': False, 'bad_values': '', 'nullable': 'true', 'field': 'CHAS', 'alias': 'CHAS', 'type': 'real', 'position': '3'}, {'checked': True, 'inherited': True, 'is_categorical': False, 'bad_values': '', 'nullable': 'true', 'field': 'NOX', 'alias': 'NOX', 'type': 'real', 'position': '4'}, {'checked': True, 'inherited': True, 'is_categorical': False, 'bad_values': '', 'nullable': 'true', 'field': 'RM', 'alias': 'RM', 'type': 'real', 'position': '5'}, {'checked': True, 'inherited': True, 'is_categorical': False, 'bad_values': '', 'nullable': 'true', 'field': 'AGE', 'alias': 'AGE', 'type': 'real', 'position': '6'}, {'checked': True, 'inherited': True, 'is_categorical': False, 'bad_values': '', 'nullable': 'true', 'field': 'DIS', 'alias': 'DIS', 'type': 'real', 'position': '7'}, {'checked': True, 'inherited': True, 'is_categorical': False, 'bad_values': '', 'nullable': 'true', 'field': 'RAD', 'alias': 'RAD', 'type': 'real', 'position': '8'}, {'checked': True, 'inherited': True, 'is_categorical': False, 'bad_values': '', 'nullable': 'true', 'field': 'TAX', 'alias': 'TAX', 'type': 'real', 'position': '9'}, {'checked': True, 'inherited': True, 'is_categorical': False, 'bad_values': '', 'nullable': 'true', 'field': 'PTRATIO', 'alias': 'PTRATIO', 'type': 'real', 'position': '10'}, {'checked': True, 'inherited': True, 'is_categorical': False, 'bad_values': '', 'nullable': 'true', 'field': 'B', 'alias': 'B', 'type': 'real', 'position': '11'}, {'checked': True, 'inherited': True, 'is_categorical': False, 'bad_values': '', 'nullable': 'true', 'field': 'LSTAT', 'alias': 'LSTAT', 'type': 'real', 'position': '12'}, {'checked': True, 'inherited': True, 'is_categorical': False, 'bad_values': '', 'nullable': 'true', 'field': 'MEDV', 'alias': 'MEDV', 'type': 'real', 'position': '13'}, {'checked': True, 'inherited': True, 'is_categorical': False, 'bad_values': '', 'nullable': 'true', 'field': 'MEDV_NOX', 'alias': 'MEDV_NOX', 'type': 'real', 'position': '15'}], 'actual_schema': [{'checked': True, 'inherited': True, 'is_categorical': False, 'bad_values': '', 'nullable': 'true', 'field': 'CRIM', 'alias': 'CRIM', 'type': 'real', 'position': '0'}, {'checked': True, 'inherited': True, 'is_categorical': False, 'bad_values': '', 'nullable': 'true', 'field': 'ZN', 'alias': 'ZN', 'type': 'real', 'position': '1'}, {'checked': True, 'inherited': True, 'is_categorical': False, 'bad_values': '', 'nullable': 'true', 'field': 'INDUS', 'alias': 'INDUS', 'type': 'real', 'position': '2'}, {'checked': True, 'inherited': True, 'is_categorical': False, 'bad_values': '', 'nullable': 'true', 'field': 'CHAS', 'alias': 'CHAS', 'type': 'real', 'position': '3'}, {'checked': True, 'inherited': True, 'is_categorical': False, 'bad_values': '', 'nullable': 'true', 'field': 'NOX', 'alias': 'NOX', 'type': 'real', 'position': '4'}, {'checked': True, 'inherited': True, 'is_categorical': False, 'bad_values': '', 'nullable': 'true', 'field': 'RM', 'alias': 'RM', 'type': 'real', 'position': '5'}, {'checked': True, 'inherited': True, 'is_categorical': False, 'bad_values': '', 'nullable': 'true', 'field': 'AGE', 'alias': 'AGE', 'type': 'real', 'position': '6'}, {'checked': True, 'inherited': True, 'is_categorical': False, 'bad_values': '', 'nullable': 'true', 'field': 'DIS', 'alias': 'DIS', 'type': 'real', 'position': '7'}, {'checked': True, 'inherited': True, 'is_categorical': False, 'bad_values': '', 'nullable': 'true', 'field': 'RAD', 'alias': 'RAD', 'type': 'real', 'position': '8'}, {'checked': True, 'inherited': True, 'is_categorical': False, 'bad_values': '', 'nullable': 'true', 'field': 'TAX', 'alias': 'TAX', 'type': 'real', 'position': '9'}, {'checked': True, 'inherited': True, 'is_categorical': False, 'bad_values': '', 'nullable': 'true', 'field': 'PTRATIO', 'alias': 'PTRATIO', 'type': 'real', 'position': '10'}, {'checked': True, 'inherited': True, 'is_categorical': False, 'bad_values': '', 'nullable': 'true', 'field': 'B', 'alias': 'B', 'type': 'real', 'position': '11'}, {'checked': True, 'inherited': True, 'is_categorical': False, 'bad_values': '', 'nullable': 'true', 'field': 'LSTAT', 'alias': 'LSTAT', 'type': 'real', 'position': '12'}, {'checked': True, 'inherited': True, 'is_categorical': False, 'bad_values': '', 'nullable': 'true', 'field': 'MEDV', 'alias': 'MEDV', 'type': 'real', 'position': '13'}], 'server': 'https://ml.numtra.com:443', 'server_url': '/numtraPlatform/NumtraPlatformV3/uploads/platform/', 'delimiter': ',', 'file_type': 'Delimeted', 'filename': 'BostonHousingTransformed.csv', 'token': '', 'domain': '', 'is_header': 'Use Header Line', 'url': '/FileStore/platform/uploadedSourceFiles/part-00000-127b2785-9eb0-45c7-a5b4-39e197336b07-c000.csv', 'results_url': 'http://colaberry.numtra.com:44040/api/read/hdfs'}\")\n",
    "\n",
    "except Exception as ex: \n",
    "\tlogging.error(ex)\n"
   ]
  }
 ],
 "metadata": {},
 "nbformat": 4,
 "nbformat_minor": 5
}
